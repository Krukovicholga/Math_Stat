{
 "cells": [
  {
   "cell_type": "code",
   "execution_count": 47,
   "metadata": {},
   "outputs": [],
   "source": [
    "import pandas as pd\n",
    "import numpy as np"
   ]
  },
  {
   "cell_type": "markdown",
   "metadata": {},
   "source": [
    "Задача № 1"
   ]
  },
  {
   "cell_type": "code",
   "execution_count": 48,
   "metadata": {},
   "outputs": [
    {
     "data": {
      "text/plain": [
       "array([ 35,  45, 190, 200,  40,  70,  54, 150, 120, 110])"
      ]
     },
     "execution_count": 48,
     "metadata": {},
     "output_type": "execute_result"
    }
   ],
   "source": [
    "zp = np.array([35, 45, 190, 200, 40, 70, 54, 150, 120, 110])\n",
    "zp"
   ]
  },
  {
   "cell_type": "code",
   "execution_count": 49,
   "metadata": {},
   "outputs": [
    {
     "data": {
      "text/plain": [
       "array([401, 574, 874, 919, 459, 739, 653, 902, 746, 832])"
      ]
     },
     "execution_count": 49,
     "metadata": {},
     "output_type": "execute_result"
    }
   ],
   "source": [
    "ks = np.array([401, 574, 874, 919, 459, 739, 653, 902, 746, 832])\n",
    "ks"
   ]
  },
  {
   "cell_type": "code",
   "execution_count": 50,
   "metadata": {},
   "outputs": [
    {
     "data": {
      "text/plain": [
       "10"
      ]
     },
     "execution_count": 50,
     "metadata": {},
     "output_type": "execute_result"
    }
   ],
   "source": [
    "n = len(X)\n",
    "n"
   ]
  },
  {
   "cell_type": "code",
   "execution_count": 51,
   "metadata": {},
   "outputs": [],
   "source": [
    "X = zp\n",
    "y = ks"
   ]
  },
  {
   "cell_type": "code",
   "execution_count": 52,
   "metadata": {},
   "outputs": [
    {
     "data": {
      "text/plain": [
       "2.620538882402765"
      ]
     },
     "execution_count": 52,
     "metadata": {},
     "output_type": "execute_result"
    }
   ],
   "source": [
    "b = (np.mean(X*y) -np.mean(X)* np.mean(y))/ (np.mean(X**2) - np.mean(X)**2)\n",
    "b                                       "
   ]
  },
  {
   "cell_type": "code",
   "execution_count": 53,
   "metadata": {},
   "outputs": [
    {
     "data": {
      "text/plain": [
       "444.1773573243596"
      ]
     },
     "execution_count": 53,
     "metadata": {},
     "output_type": "execute_result"
    }
   ],
   "source": [
    "a = np.mean(y)- (b* np.mean(X))\n",
    "a"
   ]
  },
  {
   "cell_type": "code",
   "execution_count": 54,
   "metadata": {},
   "outputs": [],
   "source": [
    "#Вывод: y = 444,18 + 2,62*x   С увеличением зарплаты на 1 тыс., скоринговый балл возрастает на 2,62."
   ]
  },
  {
   "cell_type": "code",
   "execution_count": 55,
   "metadata": {},
   "outputs": [],
   "source": [
    "#Матричный метод\n"
   ]
  },
  {
   "cell_type": "code",
   "execution_count": 56,
   "metadata": {},
   "outputs": [],
   "source": [
    "import seaborn as sns"
   ]
  },
  {
   "cell_type": "code",
   "execution_count": 57,
   "metadata": {},
   "outputs": [
    {
     "data": {
      "text/plain": [
       "array([[ 35],\n",
       "       [ 45],\n",
       "       [190],\n",
       "       [200],\n",
       "       [ 40],\n",
       "       [ 70],\n",
       "       [ 54],\n",
       "       [150],\n",
       "       [120],\n",
       "       [110]])"
      ]
     },
     "execution_count": 57,
     "metadata": {},
     "output_type": "execute_result"
    }
   ],
   "source": [
    "X = X.reshape((n,1))\n",
    "X"
   ]
  },
  {
   "cell_type": "code",
   "execution_count": 58,
   "metadata": {},
   "outputs": [],
   "source": [
    "#X = np.hstack([np.ones((n,1)), X])\n",
    "#X"
   ]
  },
  {
   "cell_type": "code",
   "execution_count": 59,
   "metadata": {},
   "outputs": [
    {
     "data": {
      "text/plain": [
       "array([[401],\n",
       "       [574],\n",
       "       [874],\n",
       "       [919],\n",
       "       [459],\n",
       "       [739],\n",
       "       [653],\n",
       "       [902],\n",
       "       [746],\n",
       "       [832]])"
      ]
     },
     "execution_count": 59,
     "metadata": {},
     "output_type": "execute_result"
    }
   ],
   "source": [
    "y = y.reshape((n,1))\n",
    "y"
   ]
  },
  {
   "cell_type": "code",
   "execution_count": 60,
   "metadata": {},
   "outputs": [
    {
     "data": {
      "text/plain": [
       "array([[5.88982042]])"
      ]
     },
     "execution_count": 60,
     "metadata": {},
     "output_type": "execute_result"
    }
   ],
   "source": [
    "B = np.dot(np.linalg.inv(np.dot(X.T,X)),X.T@y)\n",
    "B"
   ]
  },
  {
   "cell_type": "markdown",
   "metadata": {},
   "source": [
    "Задача № 2"
   ]
  },
  {
   "cell_type": "code",
   "execution_count": 106,
   "metadata": {},
   "outputs": [],
   "source": [
    "X = zp\n",
    "y = ks"
   ]
  },
  {
   "cell_type": "code",
   "execution_count": 113,
   "metadata": {},
   "outputs": [],
   "source": [
    "def mse_(B1, y=y, X=X, n = 10):\n",
    "    return np.sum((B1 * X - y)**2)/n"
   ]
  },
  {
   "cell_type": "code",
   "execution_count": 114,
   "metadata": {},
   "outputs": [],
   "source": [
    "alpha = 1e-6\n",
    "B1 = 0.1\n",
    "n = 10"
   ]
  },
  {
   "cell_type": "code",
   "execution_count": 115,
   "metadata": {},
   "outputs": [],
   "source": [
    "#mse = (1/n) * np.sum((B1*X-y)**2)\n",
    "#mse"
   ]
  },
  {
   "cell_type": "code",
   "execution_count": 116,
   "metadata": {},
   "outputs": [],
   "source": [
    "#mse_p = (2/n) * np.sum((B1*X-y)* X)\n",
    "#mse_p"
   ]
  },
  {
   "cell_type": "code",
   "execution_count": 117,
   "metadata": {},
   "outputs": [
    {
     "name": "stdout",
     "output_type": "stream",
     "text": [
      "B1 = 0.25952808\n",
      "B1 = 0.414660650906144\n",
      "B1 = 0.5655188230595969\n",
      "B1 = 0.7122203698240712\n",
      "B1 = 0.8548798195302346\n",
      "B1 = 0.9936085448867542\n",
      "B1 = 1.1285148499277806\n",
      "B1 = 1.2597040545647504\n",
      "B1 = 1.387278576808517\n",
      "B1 = 1.5113380127259965\n"
     ]
    }
   ],
   "source": [
    "for i in  range(10):\n",
    "    B1 -=alpha *(2/n) * np.sum((B1*X-y)*X)\n",
    "    print('B1 = {}'.format(B1))"
   ]
  },
  {
   "cell_type": "code",
   "execution_count": 119,
   "metadata": {},
   "outputs": [
    {
     "name": "stdout",
     "output_type": "stream",
     "text": [
      "Iteration:0, B1=5.629340281237233, mse=57451.59938606899\n",
      "Iteration:10, B1=5.692835432193034, mse=57051.433003054815\n",
      "Iteration:20, B1=5.740852880272922, mse=56822.57946410561\n",
      "Iteration:30, B1=5.777165500770666, mse=56691.69904907657\n",
      "Iteration:40, B1=5.804626485478126, mse=56616.849068093856\n",
      "Iteration:50, B1=5.825393526544474, mse=56574.04266614384\n",
      "Iteration:60, B1=5.8410983528369655, mse=56549.561857680776\n",
      "Iteration:70, B1=5.852974939784972, mse=56535.56138215128\n",
      "Iteration:80, B1=5.861956466540286, mse=56527.55456671675\n",
      "Iteration:90, B1=5.868748638669329, mse=56522.97550129376\n",
      "Iteration:100, B1=5.873885137561711, mse=56520.35675226433\n",
      "Iteration:110, B1=5.877769553381888, mse=56518.85910026643\n",
      "Iteration:120, B1=5.880707096362074, mse=56518.00259913497\n",
      "Iteration:130, B1=5.882928578088004, mse=56517.512769595625\n",
      "Iteration:140, B1=5.884608547059329, mse=56517.232638059555\n",
      "Iteration:150, B1=5.885879003490128, mse=56517.072431964974\n",
      "Iteration:160, B1=5.8868397709626885, mse=56516.98081074626\n",
      "Iteration:170, B1=5.887566339866551, mse=56516.928412941146\n",
      "Iteration:180, B1=5.888115798905433, mse=56516.89844684794\n",
      "Iteration:190, B1=5.888531320728348, mse=56516.88130936019\n",
      "Iteration:200, B1=5.888845554134484, mse=56516.87150850017\n",
      "Iteration:210, B1=5.889083189387522, mse=56516.86590342786\n",
      "Iteration:220, B1=5.889262898203911, mse=56516.862697909644\n",
      "Iteration:230, B1=5.889398800845774, mse=56516.86086468671\n",
      "Iteration:240, B1=5.889501575592372, mse=56516.85981627392\n",
      "Iteration:250, B1=5.889579297764605, mse=56516.85921669088\n",
      "Iteration:260, B1=5.889638074227276, mse=56516.85887379176\n",
      "Iteration:270, B1=5.889682523223808, mse=56516.85867768914\n",
      "Iteration:280, B1=5.889716137245525, mse=56516.858565538845\n",
      "Iteration:290, B1=5.8897415574471985, mse=56516.85850140053\n",
      "Iteration:300, B1=5.889760781170516, mse=56516.85846472009\n",
      "Iteration:310, B1=5.88977531888123, mse=56516.8584437427\n",
      "Iteration:320, B1=5.889786312850989, mse=56516.85843174583\n",
      "Iteration:330, B1=5.8897946269090555, mse=56516.858424884835\n",
      "Iteration:340, B1=5.889800914315978, mse=56516.858420961085\n",
      "Iteration:350, B1=5.8898056690922225, mse=56516.85841871711\n",
      "Iteration:360, B1=5.889809264834859, mse=56516.85841743378\n",
      "Iteration:370, B1=5.889811984072197, mse=56516.85841669984\n",
      "Iteration:380, B1=5.889814040462894, mse=56516.85841628011\n",
      "Iteration:390, B1=5.889815595583751, mse=56516.858416040064\n",
      "Iteration:400, B1=5.889816771625289, mse=56516.8584159028\n",
      "Iteration:410, B1=5.889817660992628, mse=56516.85841582429\n",
      "Iteration:420, B1=5.889818333566034, mse=56516.8584157794\n",
      "Iteration:430, B1=5.889818842191625, mse=56516.85841575372\n",
      "Iteration:440, B1=5.889819226833643, mse=56516.858415739014\n",
      "Iteration:450, B1=5.889819517714565, mse=56516.858415730625\n",
      "Iteration:460, B1=5.889819737689781, mse=56516.85841572584\n",
      "Iteration:470, B1=5.889819904043407, mse=56516.85841572308\n",
      "Iteration:480, B1=5.889820029846346, mse=56516.85841572152\n",
      "Iteration:490, B1=5.889820124983314, mse=56516.85841572062\n"
     ]
    }
   ],
   "source": [
    "for i in  range(500):\n",
    "    B1 -=alpha *(2/n) * np.sum((B1*X-y)*X)\n",
    "    if i%10 == 0:     \n",
    "        print('Iteration:{i}, B1={B1}, mse={mse}'.format(i=i, B1=B1, mse=mse_(B1)))"
   ]
  },
  {
   "cell_type": "markdown",
   "metadata": {},
   "source": [
    "Задача № 3"
   ]
  },
  {
   "cell_type": "markdown",
   "metadata": {},
   "source": [
    "Для вычисления доверительных интервалов и проверки статистических гипотез используется таблица значений функции Лапласа в случае, когда известно среднее квадратичное отклонение генеральной совокупности, а таблица критических точек распределения Стьюдента в случае, когда среднее квадратичное отлонение неизвестно."
   ]
  },
  {
   "cell_type": "markdown",
   "metadata": {},
   "source": [
    "Задача № 4"
   ]
  },
  {
   "cell_type": "code",
   "execution_count": 135,
   "metadata": {},
   "outputs": [],
   "source": [
    "alpha = 5e-6\n",
    "B1 = 0.1\n",
    "n = 10\n",
    "B0= 0.1"
   ]
  },
  {
   "cell_type": "code",
   "execution_count": 136,
   "metadata": {},
   "outputs": [],
   "source": [
    "def mse_(B0, B1, y=y, X=X, n = 10):\n",
    "    return np.sum((B0+ B1 * X - y)**2)/n"
   ]
  },
  {
   "cell_type": "code",
   "execution_count": 139,
   "metadata": {},
   "outputs": [
    {
     "name": "stdout",
     "output_type": "stream",
     "text": [
      "Iteration:0, B0=444.1767132064056 B1=2.6205436233956876, mse=6470.414201281901\n",
      "Iteration:40000, B0=444.17677535297895 B1=2.620543165969431, mse=6470.414201262576\n",
      "Iteration:80000, B0=444.17683150345084 B1=2.6205427526771334, mse=6470.414201246795\n",
      "Iteration:120000, B0=444.1768822363446 B1=2.620542379260605, mse=6470.414201233913\n",
      "Iteration:160000, B0=444.1769280743655 B1=2.620542041872505, mse=6470.414201223401\n",
      "Iteration:200000, B0=444.17696948978687 B1=2.6205417370366924, mse=6470.414201214814\n",
      "Iteration:240000, B0=444.1770069093147 B1=2.620541461612425, mse=6470.414201207806\n",
      "Iteration:280000, B0=444.1770407184866 B1=2.6205412127619705, mse=6470.414201202086\n",
      "Iteration:320000, B0=444.1770712656414 B1=2.620540987921406, mse=6470.414201197414\n",
      "Iteration:360000, B0=444.17709886550637 B1=2.6205407847741955, mse=6470.414201193604\n",
      "Iteration:400000, B0=444.17712380244905 B1=2.620540601227273, mse=6470.414201190493\n",
      "Iteration:440000, B0=444.17714633339455 B1=2.620540435389553, mse=6470.414201187949\n",
      "Iteration:480000, B0=444.1771666904818 B1=2.6205402855523907, mse=6470.414201185879\n",
      "Iteration:520000, B0=444.1771850834516 B1=2.620540150172001, mse=6470.414201184183\n",
      "Iteration:560000, B0=444.1772017018088 B1=2.6205400278535436, mse=6470.414201182802\n",
      "Iteration:600000, B0=444.177216716774 B1=2.620539917336761, mse=6470.414201181675\n",
      "Iteration:640000, B0=444.17723028304687 B1=2.620539817482994, mse=6470.414201180748\n",
      "Iteration:680000, B0=444.17724254040144 B1=2.620539727263446, mse=6470.414201180003\n",
      "Iteration:720000, B0=444.1772536151269 B1=2.620539645748572, mse=6470.4142011793865\n",
      "Iteration:760000, B0=444.1772636213274 B1=2.6205395720985107, mse=6470.414201178886\n",
      "Iteration:800000, B0=444.1772726620967 B1=2.6205395055544525, mse=6470.414201178473\n",
      "Iteration:840000, B0=444.1772808305845 B1=2.6205394454307687, mse=6470.414201178142\n",
      "Iteration:880000, B0=444.1772882109499 B1=2.6205393911080175, mse=6470.414201177868\n",
      "Iteration:920000, B0=444.1772948792346 B1=2.6205393420264946, mse=6470.414201177648\n",
      "Iteration:960000, B0=444.177300904141 B1=2.6205392976805206, mse=6470.414201177467\n",
      "Iteration:1000000, B0=444.1773063477452 B1=2.6205392576131867, mse=6470.414201177317\n",
      "Iteration:1040000, B0=444.17731126613256 B1=2.62053922141168, mse=6470.4142011772\n",
      "Iteration:1080000, B0=444.1773157099782 B1=2.620539188703011, mse=6470.414201177098\n",
      "Iteration:1120000, B0=444.1773197250677 B1=2.6205391591501765, mse=6470.414201177018\n",
      "Iteration:1160000, B0=444.17732335276776 B1=2.6205391324487017, mse=6470.414201176951\n",
      "Iteration:1200000, B0=444.177326630457 B1=2.6205391083234595, mse=6470.414201176897\n",
      "Iteration:1240000, B0=444.17732959190454 B1=2.6205390865258975, mse=6470.414201176858\n",
      "Iteration:1280000, B0=444.17733226761874 B1=2.6205390668314563, mse=6470.414201176816\n",
      "Iteration:1320000, B0=444.1773346851742 B1=2.6205390490371787, mse=6470.41420117679\n",
      "Iteration:1360000, B0=444.1773368694754 B1=2.6205390329597584, mse=6470.414201176764\n",
      "Iteration:1400000, B0=444.17733884302885 B1=2.6205390184335324, mse=6470.414201176745\n",
      "Iteration:1440000, B0=444.1773406261656 B1=2.620539005308855, mse=6470.41420117673\n",
      "Iteration:1480000, B0=444.17734223726103 B1=2.6205389934504817, mse=6470.414201176714\n",
      "Iteration:1520000, B0=444.1773436929127 B1=2.6205389827362398, mse=6470.414201176706\n",
      "Iteration:1560000, B0=444.17734500812026 B1=2.6205389730557345, mse=6470.414201176696\n",
      "Iteration:1600000, B0=444.1773461964312 B1=2.6205389643092403, mse=6470.4142011766935\n",
      "Iteration:1640000, B0=444.177347270088 B1=2.620538956406652, mse=6470.414201176684\n",
      "Iteration:1680000, B0=444.17734824015656 B1=2.6205389492665145, mse=6470.414201176682\n",
      "Iteration:1720000, B0=444.17734911662734 B1=2.620538942815302, mse=6470.414201176675\n",
      "Iteration:1760000, B0=444.1773499085333 B1=2.6205389369865246, mse=6470.4142011766735\n",
      "Iteration:1800000, B0=444.17735062403455 B1=2.6205389317201195, mse=6470.414201176669\n",
      "Iteration:1840000, B0=444.177351270503 B1=2.620538926961826, mse=6470.414201176673\n",
      "Iteration:1880000, B0=444.17735185459674 B1=2.620538922662637, mse=6470.414201176669\n",
      "Iteration:1920000, B0=444.1773523823468 B1=2.6205389187781667, mse=6470.414201176665\n",
      "Iteration:1960000, B0=444.1773528591595 B1=2.6205389152686114, mse=6470.414201176667\n"
     ]
    }
   ],
   "source": [
    "for i in  range(2000000):\n",
    "    y_hat = B0+ B1*X\n",
    "    B0-=alpha *(2/n) * np.sum((y_hat-y))\n",
    "    B1 -=alpha *(2/n) * np.sum((y_hat-y)*X)\n",
    "    if i%40000 == 0:     \n",
    "        print('Iteration:{i}, B0={B0} B1={B1}, mse={mse}'.format(i=i, B0=B0, B1=B1, mse=mse_(B0,B1)))"
   ]
  },
  {
   "cell_type": "code",
   "execution_count": null,
   "metadata": {},
   "outputs": [],
   "source": []
  }
 ],
 "metadata": {
  "kernelspec": {
   "display_name": "Python 3",
   "language": "python",
   "name": "python3"
  },
  "language_info": {
   "codemirror_mode": {
    "name": "ipython",
    "version": 3
   },
   "file_extension": ".py",
   "mimetype": "text/x-python",
   "name": "python",
   "nbconvert_exporter": "python",
   "pygments_lexer": "ipython3",
   "version": "3.8.3"
  }
 },
 "nbformat": 4,
 "nbformat_minor": 4
}
