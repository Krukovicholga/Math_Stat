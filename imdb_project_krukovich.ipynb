{
 "cells": [
  {
   "cell_type": "code",
   "execution_count": 129,
   "metadata": {
    "scrolled": true
   },
   "outputs": [],
   "source": [
    "import numpy as np\n",
    "import pandas as pd\n",
    "import matplotlib.pyplot as plt\n",
    "from scipy.stats import shapiro, normaltest\n",
    "from scipy import stats\n",
    "import seaborn as sns\n",
    "import warnings\n",
    "warnings.filterwarnings('ignore')"
   ]
  },
  {
   "cell_type": "code",
   "execution_count": 130,
   "metadata": {},
   "outputs": [],
   "source": [
    "import matplotlib\n",
    "import matplotlib.pyplot as plt\n",
    "%matplotlib inline\n",
    "matplotlib.rcParams.update({'font.size': 14})"
   ]
  },
  {
   "cell_type": "markdown",
   "metadata": {},
   "source": [
    "**Описание датаесета**\n",
    "\n",
    "Статистические данные о фильмах, взятые с сайта IMDB\n",
    "\n",
    "* **title** - название\n",
    "* **genre** - жанр\n",
    "* **year** - год\n",
    "* **duration** - продолжительность\n",
    "* **avg_vote** - средняя оценка\n",
    "* **votes** - количество оценок\n",
    "* **country** - страна\n"
   ]
  },
  {
   "cell_type": "code",
   "execution_count": 41,
   "metadata": {},
   "outputs": [
    {
     "data": {
      "text/html": [
       "<div>\n",
       "<style scoped>\n",
       "    .dataframe tbody tr th:only-of-type {\n",
       "        vertical-align: middle;\n",
       "    }\n",
       "\n",
       "    .dataframe tbody tr th {\n",
       "        vertical-align: top;\n",
       "    }\n",
       "\n",
       "    .dataframe thead th {\n",
       "        text-align: right;\n",
       "    }\n",
       "</style>\n",
       "<table border=\"1\" class=\"dataframe\">\n",
       "  <thead>\n",
       "    <tr style=\"text-align: right;\">\n",
       "      <th></th>\n",
       "      <th>title</th>\n",
       "      <th>genre</th>\n",
       "      <th>year</th>\n",
       "      <th>country</th>\n",
       "      <th>duration</th>\n",
       "      <th>avg_vote</th>\n",
       "      <th>votes</th>\n",
       "    </tr>\n",
       "  </thead>\n",
       "  <tbody>\n",
       "    <tr>\n",
       "      <th>85850</th>\n",
       "      <td>Le lion</td>\n",
       "      <td>Comedy</td>\n",
       "      <td>2020</td>\n",
       "      <td>France, Belgium</td>\n",
       "      <td>95</td>\n",
       "      <td>5.3</td>\n",
       "      <td>398</td>\n",
       "    </tr>\n",
       "    <tr>\n",
       "      <th>85851</th>\n",
       "      <td>De Beentjes van Sint-Hildegard</td>\n",
       "      <td>Comedy, Drama</td>\n",
       "      <td>2020</td>\n",
       "      <td>Netherlands</td>\n",
       "      <td>103</td>\n",
       "      <td>7.7</td>\n",
       "      <td>724</td>\n",
       "    </tr>\n",
       "    <tr>\n",
       "      <th>85852</th>\n",
       "      <td>Padmavyuhathile Abhimanyu</td>\n",
       "      <td>Drama</td>\n",
       "      <td>2019</td>\n",
       "      <td>India</td>\n",
       "      <td>130</td>\n",
       "      <td>7.9</td>\n",
       "      <td>265</td>\n",
       "    </tr>\n",
       "    <tr>\n",
       "      <th>85853</th>\n",
       "      <td>Sokagin Çocuklari</td>\n",
       "      <td>Drama, Family</td>\n",
       "      <td>2019</td>\n",
       "      <td>Turkey</td>\n",
       "      <td>98</td>\n",
       "      <td>6.4</td>\n",
       "      <td>194</td>\n",
       "    </tr>\n",
       "    <tr>\n",
       "      <th>85854</th>\n",
       "      <td>La vida sense la Sara Amat</td>\n",
       "      <td>Drama</td>\n",
       "      <td>2019</td>\n",
       "      <td>Spain</td>\n",
       "      <td>74</td>\n",
       "      <td>6.7</td>\n",
       "      <td>102</td>\n",
       "    </tr>\n",
       "  </tbody>\n",
       "</table>\n",
       "</div>"
      ],
      "text/plain": [
       "                                title          genre  year          country  \\\n",
       "85850                         Le lion         Comedy  2020  France, Belgium   \n",
       "85851  De Beentjes van Sint-Hildegard  Comedy, Drama  2020      Netherlands   \n",
       "85852       Padmavyuhathile Abhimanyu          Drama  2019            India   \n",
       "85853               Sokagin Çocuklari  Drama, Family  2019           Turkey   \n",
       "85854      La vida sense la Sara Amat          Drama  2019            Spain   \n",
       "\n",
       "       duration  avg_vote  votes  \n",
       "85850        95       5.3    398  \n",
       "85851       103       7.7    724  \n",
       "85852       130       7.9    265  \n",
       "85853        98       6.4    194  \n",
       "85854        74       6.7    102  "
      ]
     },
     "execution_count": 41,
     "metadata": {},
     "output_type": "execute_result"
    }
   ],
   "source": [
    "df_1 = pd.read_csv(\"/Users/Olga/Downloads/IMDB/IMDb movies.csv\")\n",
    "df = df_1[['title','genre', 'year', 'country', 'duration', 'avg_vote', 'votes']]\n",
    "\n",
    "df.tail()"
   ]
  },
  {
   "cell_type": "code",
   "execution_count": 42,
   "metadata": {},
   "outputs": [
    {
     "data": {
      "text/plain": [
       "(85855, 7)"
      ]
     },
     "execution_count": 42,
     "metadata": {},
     "output_type": "execute_result"
    }
   ],
   "source": [
    "# Количество строк и столбцов в датасете\n",
    "df.shape"
   ]
  },
  {
   "cell_type": "code",
   "execution_count": 43,
   "metadata": {},
   "outputs": [
    {
     "name": "stdout",
     "output_type": "stream",
     "text": [
      "<class 'pandas.core.frame.DataFrame'>\n",
      "RangeIndex: 85855 entries, 0 to 85854\n",
      "Data columns (total 7 columns):\n",
      " #   Column    Non-Null Count  Dtype  \n",
      "---  ------    --------------  -----  \n",
      " 0   title     85855 non-null  object \n",
      " 1   genre     85855 non-null  object \n",
      " 2   year      85855 non-null  object \n",
      " 3   country   85791 non-null  object \n",
      " 4   duration  85855 non-null  int64  \n",
      " 5   avg_vote  85855 non-null  float64\n",
      " 6   votes     85855 non-null  int64  \n",
      "dtypes: float64(1), int64(2), object(4)\n",
      "memory usage: 4.6+ MB\n"
     ]
    }
   ],
   "source": [
    "df.info()"
   ]
  },
  {
   "cell_type": "code",
   "execution_count": 44,
   "metadata": {},
   "outputs": [
    {
     "data": {
      "text/plain": [
       "title        0\n",
       "genre        0\n",
       "year         0\n",
       "country     64\n",
       "duration     0\n",
       "avg_vote     0\n",
       "votes        0\n",
       "dtype: int64"
      ]
     },
     "execution_count": 44,
     "metadata": {},
     "output_type": "execute_result"
    }
   ],
   "source": [
    "# Обзор пропущенных данных. Пропущенных данных нет.\n",
    "df.isnull().sum()"
   ]
  },
  {
   "cell_type": "markdown",
   "metadata": {},
   "source": [
    "**Обзор количественных переменных**"
   ]
  },
  {
   "cell_type": "code",
   "execution_count": 45,
   "metadata": {},
   "outputs": [
    {
     "data": {
      "text/html": [
       "<div>\n",
       "<style scoped>\n",
       "    .dataframe tbody tr th:only-of-type {\n",
       "        vertical-align: middle;\n",
       "    }\n",
       "\n",
       "    .dataframe tbody tr th {\n",
       "        vertical-align: top;\n",
       "    }\n",
       "\n",
       "    .dataframe thead th {\n",
       "        text-align: right;\n",
       "    }\n",
       "</style>\n",
       "<table border=\"1\" class=\"dataframe\">\n",
       "  <thead>\n",
       "    <tr style=\"text-align: right;\">\n",
       "      <th></th>\n",
       "      <th>duration</th>\n",
       "      <th>avg_vote</th>\n",
       "      <th>votes</th>\n",
       "    </tr>\n",
       "  </thead>\n",
       "  <tbody>\n",
       "    <tr>\n",
       "      <th>count</th>\n",
       "      <td>85855.000000</td>\n",
       "      <td>85855.000000</td>\n",
       "      <td>8.585500e+04</td>\n",
       "    </tr>\n",
       "    <tr>\n",
       "      <th>mean</th>\n",
       "      <td>100.351418</td>\n",
       "      <td>5.898656</td>\n",
       "      <td>9.493490e+03</td>\n",
       "    </tr>\n",
       "    <tr>\n",
       "      <th>std</th>\n",
       "      <td>22.553848</td>\n",
       "      <td>1.234987</td>\n",
       "      <td>5.357436e+04</td>\n",
       "    </tr>\n",
       "    <tr>\n",
       "      <th>min</th>\n",
       "      <td>41.000000</td>\n",
       "      <td>1.000000</td>\n",
       "      <td>9.900000e+01</td>\n",
       "    </tr>\n",
       "    <tr>\n",
       "      <th>25%</th>\n",
       "      <td>88.000000</td>\n",
       "      <td>5.200000</td>\n",
       "      <td>2.050000e+02</td>\n",
       "    </tr>\n",
       "    <tr>\n",
       "      <th>50%</th>\n",
       "      <td>96.000000</td>\n",
       "      <td>6.100000</td>\n",
       "      <td>4.840000e+02</td>\n",
       "    </tr>\n",
       "    <tr>\n",
       "      <th>75%</th>\n",
       "      <td>108.000000</td>\n",
       "      <td>6.800000</td>\n",
       "      <td>1.766500e+03</td>\n",
       "    </tr>\n",
       "    <tr>\n",
       "      <th>max</th>\n",
       "      <td>808.000000</td>\n",
       "      <td>9.900000</td>\n",
       "      <td>2.278845e+06</td>\n",
       "    </tr>\n",
       "  </tbody>\n",
       "</table>\n",
       "</div>"
      ],
      "text/plain": [
       "           duration      avg_vote         votes\n",
       "count  85855.000000  85855.000000  8.585500e+04\n",
       "mean     100.351418      5.898656  9.493490e+03\n",
       "std       22.553848      1.234987  5.357436e+04\n",
       "min       41.000000      1.000000  9.900000e+01\n",
       "25%       88.000000      5.200000  2.050000e+02\n",
       "50%       96.000000      6.100000  4.840000e+02\n",
       "75%      108.000000      6.800000  1.766500e+03\n",
       "max      808.000000      9.900000  2.278845e+06"
      ]
     },
     "execution_count": 45,
     "metadata": {},
     "output_type": "execute_result"
    }
   ],
   "source": [
    "# Вывод основных показателей опиательной статистики.\n",
    "\n",
    "df.describe()"
   ]
  },
  {
   "cell_type": "markdown",
   "metadata": {},
   "source": [
    "**Обзор номинативных переменных**"
   ]
  },
  {
   "cell_type": "code",
   "execution_count": 46,
   "metadata": {},
   "outputs": [
    {
     "data": {
      "text/plain": [
       "['title', 'genre', 'year', 'country']"
      ]
     },
     "execution_count": 46,
     "metadata": {},
     "output_type": "execute_result"
    }
   ],
   "source": [
    "df_obj_features = df.select_dtypes(include='object').columns.tolist()\n",
    "df_obj_features"
   ]
  },
  {
   "cell_type": "markdown",
   "metadata": {},
   "source": [
    "**Обработка пропусков**"
   ]
  },
  {
   "cell_type": "code",
   "execution_count": 47,
   "metadata": {},
   "outputs": [],
   "source": [
    "# Удалим строки,в кототрых пропущенны данные в столбце Country (64 шт.)\n",
    "df = df.dropna()"
   ]
  },
  {
   "cell_type": "code",
   "execution_count": 48,
   "metadata": {},
   "outputs": [
    {
     "data": {
      "text/plain": [
       "(85791, 7)"
      ]
     },
     "execution_count": 48,
     "metadata": {},
     "output_type": "execute_result"
    }
   ],
   "source": [
    "df.shape"
   ]
  },
  {
   "cell_type": "code",
   "execution_count": 49,
   "metadata": {},
   "outputs": [
    {
     "data": {
      "text/plain": [
       "array([1894, 1906, 1911, 1912, 1919, 1913, 1914, 1915, 1916, 1917, 1918,\n",
       "       1920, 1921, 1924, 1922, 1923, 1925, 1926, 1935, 1927, 1928, 1983,\n",
       "       1929, 1930, 1932, 1931, 1937, 1938, 1933, 1934, 1936, 1940, 1939,\n",
       "       1942, 1943, 1941, 1948, 1944, 2001, 1946, 1945, 1947, 1973, 1949,\n",
       "       1950, 1952, 1951, 1962, 1953, 1954, 1955, 1961, 1956, 1958, 1957,\n",
       "       1959, 1960, 1963, 1965, 1971, 1964, 1966, 1968, 1967, 1969, 1976,\n",
       "       1970, 1979, 1972, 1981, 1978, 2000, 1989, 1975, 1974, 1986, 1990,\n",
       "       2018, 1977, 1982, 1980, 1993, 1984, 1985, 1988, 1987, 2005, 1991,\n",
       "       2002, 1994, 1992, 1995, 2017, 1997, 1996, 2006, 1999, 1998, 2007,\n",
       "       2008, 2003, 2004, 2010, 2009, 2011, 2013, 2012, 2016, 2015, 2014,\n",
       "       2019, 2020, '2012', '2015', '2009', '2013', '2018', '2014', '2017',\n",
       "       '2011', '2016', '1981', '1975', '2010', '1984', '2007', '2006',\n",
       "       '2001', '2004', '1979', '2019', '1967', '1978', '2003', '2005',\n",
       "       '1969', '1990', '1983', '2002', '1996', '2008', '1995', '1999',\n",
       "       '1974', '1993', '1998', '1989', '2020', '1966', '1956', '1962',\n",
       "       '1985', '2000', '1971', '1970', '1986', '1976', '1982', '1992',\n",
       "       '1963', '1994', '1964', '1997', '1987', '1980', 'TV Movie 2019',\n",
       "       '1988'], dtype=object)"
      ]
     },
     "execution_count": 49,
     "metadata": {},
     "output_type": "execute_result"
    }
   ],
   "source": [
    "df[\"year\"].unique()"
   ]
  },
  {
   "cell_type": "code",
   "execution_count": 50,
   "metadata": {},
   "outputs": [],
   "source": [
    "# Исправим год\n",
    "df.loc[df['year'] == 'TV Movie 2019', 'year'] = '2019'"
   ]
  },
  {
   "cell_type": "code",
   "execution_count": 51,
   "metadata": {},
   "outputs": [],
   "source": [
    "# Присвоим столбцу year тип данных int\n",
    "df[\"year\"] = df[\"year\"].astype(int)"
   ]
  },
  {
   "cell_type": "markdown",
   "metadata": {},
   "source": [
    "***Графическое представление данных***"
   ]
  },
  {
   "cell_type": "markdown",
   "metadata": {},
   "source": [
    "Построим гистограмму, что бы оценить распределение оценок фильмов avg_vote"
   ]
  },
  {
   "cell_type": "code",
   "execution_count": 52,
   "metadata": {},
   "outputs": [
    {
     "data": {
      "image/png": "[encoded data removed]",
      "text/plain": [
       "<Figure size 1152x576 with 2 Axes>"
      ]
     },
     "metadata": {
      "needs_background": "light"
     },
     "output_type": "display_data"
    }
   ],
   "source": [
    "plt.figure(figsize = (16, 8))\n",
    "\n",
    "plt.subplot(121)\n",
    "plt.hist(df['avg_vote'], bins = 20)\n",
    "plt.ylabel('count')\n",
    "plt.xlabel('avg_vote')\n",
    "\n",
    "plt.subplot(122)\n",
    "sns.kdeplot(df['avg_vote'], shade=True, legend=False)\n",
    "plt.xlabel('avg_vote')\n",
    "\n",
    "plt.suptitle('Distribution of avg_vote')\n",
    "plt.show()"
   ]
  },
  {
   "cell_type": "markdown",
   "metadata": {},
   "source": [
    "Также можно визуализировать распределение при помощи диаграммы boxplot."
   ]
  },
  {
   "cell_type": "code",
   "execution_count": 53,
   "metadata": {},
   "outputs": [
    {
     "data": {
      "image/png": "[encoded data removed]",
      "text/plain": [
       "<Figure size 432x288 with 1 Axes>"
      ]
     },
     "metadata": {
      "needs_background": "light"
     },
     "output_type": "display_data"
    }
   ],
   "source": [
    "sns.boxplot(df['avg_vote'], orient='v')\n",
    "plt.show()"
   ]
  },
  {
   "cell_type": "markdown",
   "metadata": {},
   "source": [
    "Анализируя эти графики, можно сделать вывод, что самая распространенная оценка фильму равняется 6."
   ]
  },
  {
   "cell_type": "markdown",
   "metadata": {},
   "source": [
    "Отобразим на диаграмме моду, медиану и срднее значение оценок фильмов."
   ]
  },
  {
   "cell_type": "code",
   "execution_count": 54,
   "metadata": {},
   "outputs": [
    {
     "data": {
      "text/plain": [
       "(5.9, 6.1, 6.4)"
      ]
     },
     "execution_count": 54,
     "metadata": {},
     "output_type": "execute_result"
    }
   ],
   "source": [
    "avg_vote_mean = round(df['avg_vote'].mean(), 2)\n",
    "avg_vote_median = df['avg_vote'].median()\n",
    "avg_vote_mode = df['avg_vote'].mode()[0]\n",
    "\n",
    "avg_vote_mean, avg_vote_median,avg_vote_mode"
   ]
  },
  {
   "cell_type": "code",
   "execution_count": 55,
   "metadata": {},
   "outputs": [
    {
     "data": {
      "image/png": "[encoded data removed]",
      "text/plain": [
       "<Figure size 1152x576 with 1 Axes>"
      ]
     },
     "metadata": {
      "needs_background": "light"
     },
     "output_type": "display_data"
    }
   ],
   "source": [
    "\n",
    "plt.figure(figsize = (16, 8))\n",
    "\n",
    "sns.distplot(df['avg_vote'])\n",
    "\n",
    "y = np.linspace(0, 0.5, 100)\n",
    "plt.plot([avg_vote_mean] * 100, y, label='mean', linestyle=':', linewidth=4)\n",
    "plt.plot([avg_vote_median] * 100, y, label='median', linestyle='--', linewidth=4)\n",
    "plt.plot([avg_vote_mode] * 100, y, label='mode', linestyle='-.', linewidth=4)\n",
    "\n",
    "plt.title('Distribution of avg_vote')\n",
    "plt.legend()\n",
    "plt.show()"
   ]
  },
  {
   "cell_type": "code",
   "execution_count": 56,
   "metadata": {},
   "outputs": [
    {
     "data": {
      "text/plain": [
       "array(['Romance', 'Biography, Crime, Drama', 'Drama', ...,\n",
       "       'Family, Sci-Fi, Thriller', 'Family, War', 'Crime, War'],\n",
       "      dtype=object)"
      ]
     },
     "execution_count": 56,
     "metadata": {},
     "output_type": "execute_result"
    }
   ],
   "source": [
    "df[\"genre\"].unique()"
   ]
  },
  {
   "cell_type": "markdown",
   "metadata": {},
   "source": [
    "**Проверка нормальности распределения оценок зрителей (тесты Шапиро-Уилка и Пирсона)**"
   ]
  },
  {
   "cell_type": "code",
   "execution_count": 126,
   "metadata": {},
   "outputs": [
    {
     "data": {
      "text/html": [
       "<div>\n",
       "<style scoped>\n",
       "    .dataframe tbody tr th:only-of-type {\n",
       "        vertical-align: middle;\n",
       "    }\n",
       "\n",
       "    .dataframe tbody tr th {\n",
       "        vertical-align: top;\n",
       "    }\n",
       "\n",
       "    .dataframe thead th {\n",
       "        text-align: right;\n",
       "    }\n",
       "</style>\n",
       "<table border=\"1\" class=\"dataframe\">\n",
       "  <thead>\n",
       "    <tr style=\"text-align: right;\">\n",
       "      <th></th>\n",
       "      <th>title</th>\n",
       "      <th>genre</th>\n",
       "      <th>year</th>\n",
       "      <th>country</th>\n",
       "      <th>duration</th>\n",
       "      <th>avg_vote</th>\n",
       "      <th>votes</th>\n",
       "    </tr>\n",
       "  </thead>\n",
       "  <tbody>\n",
       "    <tr>\n",
       "      <th>2</th>\n",
       "      <td>Den sorte drøm</td>\n",
       "      <td>Drama</td>\n",
       "      <td>1911</td>\n",
       "      <td>Germany, Denmark</td>\n",
       "      <td>53</td>\n",
       "      <td>5.8</td>\n",
       "      <td>188</td>\n",
       "    </tr>\n",
       "    <tr>\n",
       "      <th>9</th>\n",
       "      <td>Richard III</td>\n",
       "      <td>Drama</td>\n",
       "      <td>1912</td>\n",
       "      <td>France, USA</td>\n",
       "      <td>55</td>\n",
       "      <td>5.5</td>\n",
       "      <td>225</td>\n",
       "    </tr>\n",
       "    <tr>\n",
       "      <th>10</th>\n",
       "      <td>Atlantis</td>\n",
       "      <td>Drama</td>\n",
       "      <td>1913</td>\n",
       "      <td>Denmark</td>\n",
       "      <td>121</td>\n",
       "      <td>6.6</td>\n",
       "      <td>331</td>\n",
       "    </tr>\n",
       "    <tr>\n",
       "      <th>12</th>\n",
       "      <td>Il calvario di una madre</td>\n",
       "      <td>Drama</td>\n",
       "      <td>1913</td>\n",
       "      <td>Sweden</td>\n",
       "      <td>96</td>\n",
       "      <td>7.1</td>\n",
       "      <td>948</td>\n",
       "    </tr>\n",
       "    <tr>\n",
       "      <th>14</th>\n",
       "      <td>Ma l'amor mio non muore...</td>\n",
       "      <td>Drama</td>\n",
       "      <td>1914</td>\n",
       "      <td>Italy</td>\n",
       "      <td>90</td>\n",
       "      <td>6.2</td>\n",
       "      <td>100</td>\n",
       "    </tr>\n",
       "    <tr>\n",
       "      <th>...</th>\n",
       "      <td>...</td>\n",
       "      <td>...</td>\n",
       "      <td>...</td>\n",
       "      <td>...</td>\n",
       "      <td>...</td>\n",
       "      <td>...</td>\n",
       "      <td>...</td>\n",
       "    </tr>\n",
       "    <tr>\n",
       "      <th>85847</th>\n",
       "      <td>Ottam</td>\n",
       "      <td>Drama</td>\n",
       "      <td>2019</td>\n",
       "      <td>India</td>\n",
       "      <td>120</td>\n",
       "      <td>7.4</td>\n",
       "      <td>494</td>\n",
       "    </tr>\n",
       "    <tr>\n",
       "      <th>85848</th>\n",
       "      <td>Pengalila</td>\n",
       "      <td>Drama</td>\n",
       "      <td>2019</td>\n",
       "      <td>India</td>\n",
       "      <td>111</td>\n",
       "      <td>8.8</td>\n",
       "      <td>553</td>\n",
       "    </tr>\n",
       "    <tr>\n",
       "      <th>85850</th>\n",
       "      <td>Le lion</td>\n",
       "      <td>Comedy</td>\n",
       "      <td>2020</td>\n",
       "      <td>France, Belgium</td>\n",
       "      <td>95</td>\n",
       "      <td>5.3</td>\n",
       "      <td>398</td>\n",
       "    </tr>\n",
       "    <tr>\n",
       "      <th>85852</th>\n",
       "      <td>Padmavyuhathile Abhimanyu</td>\n",
       "      <td>Drama</td>\n",
       "      <td>2019</td>\n",
       "      <td>India</td>\n",
       "      <td>130</td>\n",
       "      <td>7.9</td>\n",
       "      <td>265</td>\n",
       "    </tr>\n",
       "    <tr>\n",
       "      <th>85854</th>\n",
       "      <td>La vida sense la Sara Amat</td>\n",
       "      <td>Drama</td>\n",
       "      <td>2019</td>\n",
       "      <td>Spain</td>\n",
       "      <td>74</td>\n",
       "      <td>6.7</td>\n",
       "      <td>102</td>\n",
       "    </tr>\n",
       "  </tbody>\n",
       "</table>\n",
       "<p>23718 rows × 7 columns</p>\n",
       "</div>"
      ],
      "text/plain": [
       "                            title   genre  year           country  duration  \\\n",
       "2                  Den sorte drøm   Drama  1911  Germany, Denmark        53   \n",
       "9                     Richard III   Drama  1912       France, USA        55   \n",
       "10                       Atlantis   Drama  1913           Denmark       121   \n",
       "12       Il calvario di una madre   Drama  1913            Sweden        96   \n",
       "14     Ma l'amor mio non muore...   Drama  1914             Italy        90   \n",
       "...                           ...     ...   ...               ...       ...   \n",
       "85847                       Ottam   Drama  2019             India       120   \n",
       "85848                   Pengalila   Drama  2019             India       111   \n",
       "85850                     Le lion  Comedy  2020   France, Belgium        95   \n",
       "85852   Padmavyuhathile Abhimanyu   Drama  2019             India       130   \n",
       "85854  La vida sense la Sara Amat   Drama  2019             Spain        74   \n",
       "\n",
       "       avg_vote  votes  \n",
       "2           5.8    188  \n",
       "9           5.5    225  \n",
       "10          6.6    331  \n",
       "12          7.1    948  \n",
       "14          6.2    100  \n",
       "...         ...    ...  \n",
       "85847       7.4    494  \n",
       "85848       8.8    553  \n",
       "85850       5.3    398  \n",
       "85852       7.9    265  \n",
       "85854       6.7    102  \n",
       "\n",
       "[23718 rows x 7 columns]"
      ]
     },
     "execution_count": 126,
     "metadata": {},
     "output_type": "execute_result"
    }
   ],
   "source": [
    "anova_df = df[(df.genre == 'Comedy') | (df.genre == 'Drama')|(df.genre == 'Thriller')|(df.genre == 'Horror')]\n",
    "anova_df"
   ]
  },
  {
   "cell_type": "code",
   "execution_count": 57,
   "metadata": {},
   "outputs": [],
   "source": [
    "# тест Шапиро-Уилка\n",
    "\n",
    "def test_shapiro(y):\n",
    "    data = y\n",
    "    # normality test\n",
    "    stat, p = shapiro(data)\n",
    "    print('\\033[1m\\033[4mStatistics = %.3f, p-value = %.3f' % (stat, p))\n",
    "    \n",
    "    # interpret\n",
    "    alpha = 0.05\n",
    "    if p > alpha:\n",
    "        print('Принять гипотезу о нормальности')\n",
    "    else:\n",
    "        print('Отклонить гипотезу о нормальности')\n",
    "    print()"
   ]
  },
  {
   "cell_type": "code",
   "execution_count": 58,
   "metadata": {},
   "outputs": [],
   "source": [
    "# Критерий согласия Пирсона\n",
    "\n",
    "def test_pirsona(y):\n",
    "    # normality test\n",
    "    stat, p = normaltest(y) \n",
    "    print('\\033[1m\\033[4mStatistics = %.3f, p-value = %.3f' % (stat, p))\n",
    "    \n",
    "    # interpret\n",
    "    alpha = 0.05\n",
    "    if p > alpha:\n",
    "        print('Принять гипотезу о нормальности')\n",
    "    else:\n",
    "        print('Отклонить гипотезу о нормальности')\n",
    "    print()"
   ]
  },
  {
   "cell_type": "code",
   "execution_count": 127,
   "metadata": {},
   "outputs": [
    {
     "name": "stdout",
     "output_type": "stream",
     "text": [
      "\u001b[1m\u001b[4mStatistics = 0.959, p-value = 0.000\n",
      "Отклонить гипотезу о нормальности\n",
      "\n",
      "\u001b[1m\u001b[4mStatistics = 2169.268, p-value = 0.000\n",
      "Отклонить гипотезу о нормальности\n",
      "\n"
     ]
    }
   ],
   "source": [
    "y = anova_df['avg_vote'].values\n",
    "test_shapiro(y)\n",
    "test_pirsona(y)"
   ]
  },
  {
   "cell_type": "markdown",
   "metadata": {},
   "source": [
    "ANOVA"
   ]
  },
  {
   "cell_type": "code",
   "execution_count": null,
   "metadata": {},
   "outputs": [],
   "source": [
    "H0 = ('различий среди средних оценок фильмов жанров: драма, триллер, комедия, ужасы нет.')\n",
    "H1 = ('различия среди средних оценок фильмов жанров: драма, триллер, комедия, ужасы есть.')\n"
   ]
  }
 ],
 "metadata": {
  "kernelspec": {
   "display_name": "Python 3",
   "language": "python",
   "name": "python3"
  },
  "language_info": {
   "codemirror_mode": {
    "name": "ipython",
    "version": 3
   },
   "file_extension": ".py",
   "mimetype": "text/x-python",
   "name": "python",
   "nbconvert_exporter": "python",
   "pygments_lexer": "ipython3",
   "version": "3.8.3"
  }
 },
 "nbformat": 4,
 "nbformat_minor": 4
}
